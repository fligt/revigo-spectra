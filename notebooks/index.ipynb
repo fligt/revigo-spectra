{
 "cells": [
  {
   "cell_type": "markdown",
   "metadata": {},
   "source": [
    "# Welcome to `revigo-spectra`\n",
    "\n",
    "> Spectral reflectance data and Kubelka-Munk analysis of Revigo project paints"
   ]
  },
  {
   "cell_type": "markdown",
   "metadata": {},
   "source": [
    "## Background \n",
    "\n",
    "**About the Revigo project.**\n",
    "\n",
    "<img width=50% src=\"https://github.com/fligt/revigo-spectra/blob/master/notebooks/images/eosine.png?raw=true\">\n",
    "\n",
    "## Cite \n",
    "\n"
   ]
  },
  {
   "cell_type": "markdown",
   "metadata": {},
   "source": [
    "You are free to make use of the data and code in this repository. If you use our work in your publications, please cite our [article](https://doi.org/10.1186/s40494-018-0181-6)."
   ]
  },
  {
   "cell_type": "markdown",
   "metadata": {},
   "source": [
    "    @Article{Geldof_2018,\n",
    "      author    = {Geldof, M. and Proaño Gaibor, A. and Kirchner, E. and Ligterink, F.},\n",
    "      title     = {Reconstructing Van Gogh’s palette to determine the optical characteristics of his paints},\n",
    "      journal   = {Heritage Science},\n",
    "      year      = {2018},\n",
    "      volume    = {6},\n",
    "      number    = {17},\n",
    "      pages     = {1--20},\n",
    "      doi       = {https://doi.org/10.1186/s40494-018-0181-6},\n",
    "      url       = {https://heritagesciencejournal.springeropen.com/articles/10.1186/s40494-018-0181-6},\n",
    "      },"
   ]
  }
 ],
 "metadata": {
  "kernelspec": {
   "display_name": "python3",
   "language": "python",
   "name": "python3"
  }
 },
 "nbformat": 4,
 "nbformat_minor": 4
}
